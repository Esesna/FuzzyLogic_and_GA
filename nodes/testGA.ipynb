{
 "cells": [
  {
   "cell_type": "code",
   "execution_count": 1,
   "metadata": {},
   "outputs": [],
   "source": [
    "from deap import base\n",
    "from deap import creator\n",
    "from deap import tools\n",
    "from deap import base, algorithms\n",
    "import random\n",
    "import numpy as np\n",
    "import matplotlib.pyplot as plt "
   ]
  },
  {
   "cell_type": "code",
   "execution_count": 2,
   "metadata": {},
   "outputs": [],
   "source": [
    "ONE_MAX_LENGTH = 100 # размер списка, с которым работает ГА\n",
    "POPULATION_SIZE = 200 # размер популяции\n",
    "P_CROSSOVER = 0.9\n",
    "P_MUTATION = 0.1\n",
    "MAX_GENERATIONS = 50\n",
    "# creator.create(\"Point\", object, MAX_COORD = 10, MIN_COORD = 0, coords=list)\n",
    "\n",
    "# pt = creator.Point()\n",
    "creator.create(\"FitnessMax\", base.Fitness, weights = (1.0, ))\n",
    "creator.create(\"Individual\", list, fitness = creator.FitnessMax)\n",
    "\n",
    "def oneMaxFitness(individual):\n",
    "    return sum(individual), # кортеж\n",
    "\n",
    "toolbox = base.Toolbox()\n",
    "toolbox.register(\"randRange\", random.randint, 0, 1)\n",
    "toolbox.register(\"individualCreator\", tools.initRepeat, creator.Individual, toolbox.randRange, ONE_MAX_LENGTH)\n",
    "toolbox.register(\"populationCreator\", tools.initRepeat, list, toolbox.individualCreator)\n",
    "\n",
    "population = toolbox.populationCreator(n=POPULATION_SIZE)"
   ]
  },
  {
   "cell_type": "code",
   "execution_count": 3,
   "metadata": {},
   "outputs": [],
   "source": [
    "toolbox.register(\"select\", tools.selTournament, tournsize=3)\n",
    "toolbox.register(\"mate\", tools.cxOnePoint)\n",
    "toolbox.register(\"mutate\", tools.mutFlipBit, indpb=1.0/ONE_MAX_LENGTH)\n",
    "toolbox.register(\"evaluate\", oneMaxFitness)"
   ]
  },
  {
   "cell_type": "code",
   "execution_count": 4,
   "metadata": {},
   "outputs": [
    {
     "name": "stdout",
     "output_type": "stream",
     "text": [
      "gen\tnevals\tmax \tavg    \n",
      "0  \t200   \t5828\t5071.37\n",
      "1  \t185   \t5989\t5319.78\n",
      "2  \t191   \t6182\t5530.67\n",
      "3  \t182   \t6332\t5694.06\n",
      "4  \t183   \t6281\t5846.23\n",
      "5  \t186   \t6389\t6005.98\n",
      "6  \t189   \t6565\t6134.41\n",
      "7  \t183   \t6691\t6238.02\n",
      "8  \t178   \t6715\t6335.54\n",
      "9  \t182   \t6732\t6464.54\n",
      "10 \t190   \t6848\t6554.14\n",
      "11 \t178   \t6930\t6650.57\n",
      "12 \t187   \t7000\t6739.5 \n",
      "13 \t182   \t7071\t6802.66\n",
      "14 \t189   \t7143\t6870.16\n",
      "15 \t187   \t7143\t6939.06\n",
      "16 \t189   \t7213\t6994.68\n",
      "17 \t175   \t7233\t7051.31\n",
      "18 \t174   \t7245\t7100.34\n",
      "19 \t176   \t7300\t7145.57\n",
      "20 \t181   \t7341\t7189.12\n",
      "21 \t190   \t7349\t7230.41\n",
      "22 \t186   \t7384\t7266.81\n",
      "23 \t182   \t7422\t7302.84\n",
      "24 \t180   \t7425\t7331.06\n",
      "25 \t181   \t7464\t7355.31\n",
      "26 \t186   \t7497\t7377.23\n",
      "27 \t188   \t7537\t7406.52\n",
      "28 \t181   \t7552\t7435.84\n",
      "29 \t186   \t7644\t7460.69\n",
      "30 \t177   \t7623\t7496.33\n",
      "31 \t186   \t7633\t7522.82\n",
      "32 \t188   \t7644\t7557.32\n",
      "33 \t170   \t7668\t7578.73\n",
      "34 \t186   \t7674\t7605.73\n",
      "35 \t191   \t7698\t7627.8 \n",
      "36 \t176   \t7714\t7649.82\n",
      "37 \t179   \t7717\t7662.18\n",
      "38 \t176   \t7728\t7676.32\n",
      "39 \t182   \t7739\t7694.22\n",
      "40 \t186   \t7742\t7705.81\n",
      "41 \t189   \t7753\t7715.65\n",
      "42 \t179   \t7765\t7718.34\n",
      "43 \t182   \t7765\t7727.82\n",
      "44 \t183   \t7765\t7737.66\n",
      "45 \t189   \t7768\t7749.26\n",
      "46 \t181   \t7768\t7751.24\n",
      "47 \t177   \t7777\t7747.97\n",
      "48 \t180   \t7779\t7757.01\n",
      "49 \t181   \t7779\t7758.81\n",
      "50 \t181   \t7779\t7766.34\n"
     ]
    }
   ],
   "source": [
    "stats = tools.Statistics(lambda ind: ind.fitness.values)\n",
    "stats.register(\"max\", np.max)\n",
    "stats.register(\"avg\", np.mean)\n",
    "\n",
    "population, logbook = algorithms.eaSimple(population, toolbox,\n",
    "                                        cxpb=P_CROSSOVER,\n",
    "                                        mutpb=P_MUTATION,\n",
    "                                        ngen=MAX_GENERATIONS,\n",
    "                                        stats=stats,\n",
    "                                        verbose=True)\n",
    "maxFitnessValues, meanFitnessValues = logbook.select(\"max\", \"avg\")"
   ]
  },
  {
   "cell_type": "code",
   "execution_count": 5,
   "metadata": {},
   "outputs": [
    {
     "data": {
      "image/png": "[encoded data removed]",
      "text/plain": [
       "<Figure size 432x288 with 1 Axes>"
      ]
     },
     "metadata": {
      "needs_background": "light"
     },
     "output_type": "display_data"
    }
   ],
   "source": [
    "x = np.arange(0, len(maxFitnessValues), 1)\n",
    "\n",
    "plt.plot(maxFitnessValues, 'r')\n",
    "plt.plot(meanFitnessValues, 'b')\n",
    "\n",
    "# plt.xlabel('Поколение')\n",
    "# plt.ylabel('Макс/средняя приспособленность')\n",
    "# plt.title('Зависимость максимальной и средней приспособленности от поколения')\n",
    "plt.show()"
   ]
  },
  {
   "cell_type": "code",
   "execution_count": 10,
   "metadata": {},
   "outputs": [
    {
     "name": "stdout",
     "output_type": "stream",
     "text": [
      "-168.690067526\n"
     ]
    }
   ],
   "source": [
    "import math\n",
    "class Point():\n",
    "    def __init__(self, x, y):\n",
    "        self.x = x\n",
    "        self.y = y\n",
    "\n",
    "def angleInterVector(P1, P2):\n",
    "    return P1.x * P2.x + P1.y * P2.y\n",
    "\n",
    "p1 = Point(-5,-1)\n",
    "def angleVector(P1):\n",
    "    moduleP = math.sqrt(P1.x * P1.x + P1.y * P1.y)\n",
    "    cos = P1.x / moduleP\n",
    "    sin = P1.y / moduleP\n",
    "    angle = math.acos(cos)\n",
    "    if sin < 0:\n",
    "        angle *= -1\n",
    "    return angle / math.pi * 180\n",
    "\n",
    "# print( angleInterVector(p1, p2) )\n",
    "print(angleVector(p1))\n",
    "\n"
   ]
  },
  {
   "cell_type": "code",
   "execution_count": 4,
   "metadata": {},
   "outputs": [
    {
     "name": "stdout",
     "output_type": "stream",
     "text": [
      "[15.  0. 15.]\n"
     ]
    }
   ],
   "source": [
    "import numpy as np\n",
    "listBit = [1,1,1,1,0,0,0,0,1,1,1,1]\n",
    "n = 4\n",
    "listByte = np.zeros(3)\n",
    "\n",
    "for i in range(3):\n",
    "    listByte[i] = 0\n",
    "\n",
    "    for j in range(n):\n",
    "        listByte[i] += listBit[j + i * n] * (2 ** j)\n",
    "\n",
    "print(listByte)"
   ]
  }
 ],
 "metadata": {
  "kernelspec": {
   "display_name": "Python 2.7.17 64-bit",
   "language": "python",
   "name": "python3"
  },
  "language_info": {
   "codemirror_mode": {
    "name": "ipython",
    "version": 2
   },
   "file_extension": ".py",
   "mimetype": "text/x-python",
   "name": "python",
   "nbconvert_exporter": "python",
   "pygments_lexer": "ipython2",
   "version": "2.7.17"
  },
  "orig_nbformat": 4,
  "vscode": {
   "interpreter": {
    "hash": "767d51c1340bd893661ea55ea3124f6de3c7a262a8b4abca0554b478b1e2ff90"
   }
  }
 },
 "nbformat": 4,
 "nbformat_minor": 2
}
